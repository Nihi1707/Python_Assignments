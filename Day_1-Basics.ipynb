{
 "cells": [
  {
   "cell_type": "code",
   "execution_count": null,
   "id": "13169aae-8865-47b7-b0f3-5407bf4eb419",
   "metadata": {},
   "outputs": [],
   "source": [
    "open Windows\n",
    "Type Anaconda prompt\n",
    "The Terminal will be opened\n",
    "In terminal type jupyter Notebook & press "
   ]
  },
  {
   "cell_type": "markdown",
   "id": "2d597ab4-e8f6-466e-8ff4-807fc355fd4f",
   "metadata": {},
   "source": [
    "# **Python Classes**"
   ]
  },
  {
   "cell_type": "markdown",
   "id": "966b0202-be0d-4b0f-b809-75d7be423188",
   "metadata": {},
   "source": [
    "### **1. Comments**"
   ]
  },
  {
   "cell_type": "code",
   "execution_count": 1,
   "id": "d30ba185-db6d-4387-9084-4b7a6bb84194",
   "metadata": {},
   "outputs": [],
   "source": [
    "# 4 Types of Data Types\n",
    "# int =  Whole Number (0,end number & -1 & end number)\n",
    "# float = Decimal Number (12.5, 1014.15)\n",
    "# str = Sequence of Characters (\"This is my String\", 'This is my String')\n",
    "# bool = True & False (1, 0)"
   ]
  },
  {
   "cell_type": "code",
   "execution_count": 4,
   "id": "7217e0f7-6c81-43bc-aa0a-8654747f9ea8",
   "metadata": {},
   "outputs": [
    {
     "name": "stdout",
     "output_type": "stream",
     "text": [
      "This is my First Print Statement\n"
     ]
    }
   ],
   "source": [
    "print(\"This is my First Print Statement\")"
   ]
  },
  {
   "cell_type": "code",
   "execution_count": 6,
   "id": "d088c6f8-091a-4be2-877c-60b1f4d15696",
   "metadata": {},
   "outputs": [],
   "source": [
    "my_number = 14"
   ]
  },
  {
   "cell_type": "code",
   "execution_count": 8,
   "id": "21d9806a-3a81-4554-97e2-f85fde086894",
   "metadata": {},
   "outputs": [
    {
     "name": "stdout",
     "output_type": "stream",
     "text": [
      "14\n"
     ]
    }
   ],
   "source": [
    "print(my_number)"
   ]
  },
  {
   "cell_type": "code",
   "execution_count": 10,
   "id": "515c0ec3-6d3e-4040-b3ae-3347de883062",
   "metadata": {},
   "outputs": [
    {
     "ename": "SyntaxError",
     "evalue": "incomplete input (2043362480.py, line 1)",
     "output_type": "error",
     "traceback": [
      "\u001b[1;36m  Cell \u001b[1;32mIn[10], line 1\u001b[1;36m\u001b[0m\n\u001b[1;33m    print(my_number\u001b[0m\n\u001b[1;37m                   ^\u001b[0m\n\u001b[1;31mSyntaxError\u001b[0m\u001b[1;31m:\u001b[0m incomplete input\n"
     ]
    }
   ],
   "source": [
    "print(my_number"
   ]
  },
  {
   "cell_type": "code",
   "execution_count": 12,
   "id": "36ade3e8-5c39-4327-9711-7df96e03d771",
   "metadata": {},
   "outputs": [
    {
     "ename": "TypeError",
     "evalue": "unsupported operand type(s) for +: 'int' and 'str'",
     "output_type": "error",
     "traceback": [
      "\u001b[1;31m---------------------------------------------------------------------------\u001b[0m",
      "\u001b[1;31mTypeError\u001b[0m                                 Traceback (most recent call last)",
      "Cell \u001b[1;32mIn[12], line 1\u001b[0m\n\u001b[1;32m----> 1\u001b[0m my_varchar \u001b[38;5;241m=\u001b[39m \u001b[38;5;241m10\u001b[39m \u001b[38;5;241m+\u001b[39m \u001b[38;5;124m\"\u001b[39m\u001b[38;5;124mCambridge\u001b[39m\u001b[38;5;124m\"\u001b[39m\n",
      "\u001b[1;31mTypeError\u001b[0m: unsupported operand type(s) for +: 'int' and 'str'"
     ]
    }
   ],
   "source": [
    "my_varchar = 10 + \"Cambridge\""
   ]
  },
  {
   "cell_type": "code",
   "execution_count": null,
   "id": "16aeef9e-846e-4e84-8ab6-a1979429aa38",
   "metadata": {},
   "outputs": [],
   "source": [
    "print(my_varchar)"
   ]
  },
  {
   "cell_type": "code",
   "execution_count": null,
   "id": "0b7f64c1-8fc8-45da-9383-c0dbc79a869e",
   "metadata": {},
   "outputs": [],
   "source": []
  },
  {
   "cell_type": "code",
   "execution_count": 3,
   "id": "0276763a-8e29-4df7-8167-485a0150abbc",
   "metadata": {},
   "outputs": [
    {
     "data": {
      "text/plain": [
       "\"\\nsajjkosd\\nsjkhkhsd'\\nnjknlnsdc\\n\""
      ]
     },
     "execution_count": 3,
     "metadata": {},
     "output_type": "execute_result"
    }
   ],
   "source": [
    "# This is my comment\n",
    "\n",
    "\"\"\"\n",
    "sajjkosd\n",
    "sjkhkhsd'\n",
    "njknlnsdc\n",
    "\"\"\""
   ]
  },
  {
   "cell_type": "markdown",
   "id": "a00df802-a77b-41dd-886e-504a7779f442",
   "metadata": {},
   "source": [
    "There are two types of comments: single-line comments and multi-line comments.\n",
    "\n",
    "Comments are used to explain code and make it more readable.\n",
    "\n",
    "### Single-Line Comment\n",
    "\n",
    "A single-line comment starts with the `#` symbol and continues to the end of the line. It is used for short explanations or notes.\n",
    "\n",
    "**Single-line comment Example:**\n",
    "\n",
    "```python\n",
    "# This is a single-line comment\n",
    "print(\"Hello, World!\")  # This is also a single-line comment\n",
    "```\n",
    "\n",
    "```python\n",
    "# This is a multi-line comment\n",
    "# which is actually just a series\n",
    "# of single-line comments.\n",
    "print(\"Hello, World!\")\n",
    "```\n",
    "\n",
    "### Multi-Line Comment\n",
    "\n",
    "Python doesn't have a specific multi-line comment syntax like some other languages. However, you can use a series of single-line comments or a multi-line string (triple quotes) that is not assigned to any variable. This is often used as a multi-line comment.\n",
    "\n",
    "**Multi-line Comment Example:**\n",
    "\n",
    "```python\n",
    "\"\"\"\n",
    "This is a multi-line comment\n",
    "using triple quotes. Although it is technically a string,\n",
    "it is not assigned to any variable, so it functions as a comment.\n",
    "\"\"\"\n",
    "print(\"Hello, World!\")\n",
    "```"
   ]
  },
  {
   "cell_type": "code",
   "execution_count": 37,
   "id": "59a06281-2776-4827-a253-651afb1a2505",
   "metadata": {},
   "outputs": [
    {
     "name": "stdout",
     "output_type": "stream",
     "text": [
      "True\n"
     ]
    }
   ],
   "source": [
    "# I have enrolled the course\n",
    "\n",
    "\"\"\" I have enrolled the course\n",
    "sdvjkhsdvhiv\n",
    "sdjkdfv\n",
    "\"\"\"\n",
    "course_enrolled = True\n",
    "print(course_enrolled)"
   ]
  },
  {
   "cell_type": "code",
   "execution_count": 4,
   "id": "16d6cc27-5004-4999-b36e-2081b9af04a4",
   "metadata": {},
   "outputs": [],
   "source": [
    "# Cambridge"
   ]
  },
  {
   "cell_type": "code",
   "execution_count": 1,
   "id": "f87e7344-b2b2-4cc2-b864-35bcfbf41a6e",
   "metadata": {},
   "outputs": [
    {
     "ename": "TypeError",
     "evalue": "can only concatenate str (not \"int\") to str",
     "output_type": "error",
     "traceback": [
      "\u001b[1;31m---------------------------------------------------------------------------\u001b[0m",
      "\u001b[1;31mTypeError\u001b[0m                                 Traceback (most recent call last)",
      "Cell \u001b[1;32mIn[1], line 1\u001b[0m\n\u001b[1;32m----> 1\u001b[0m \u001b[38;5;28mprint\u001b[39m(\u001b[38;5;124m\"\u001b[39m\u001b[38;5;124mHeloo\u001b[39m\u001b[38;5;124m\"\u001b[39m \u001b[38;5;241m+\u001b[39m \u001b[38;5;241m5\u001b[39m)\n",
      "\u001b[1;31mTypeError\u001b[0m: can only concatenate str (not \"int\") to str"
     ]
    }
   ],
   "source": [
    "print(\"Heloo\" + 5)"
   ]
  },
  {
   "cell_type": "code",
   "execution_count": 25,
   "id": "0d98bc6f-ddcd-4d99-8ca9-e13d2caaa026",
   "metadata": {},
   "outputs": [
    {
     "name": "stdout",
     "output_type": "stream",
     "text": [
      "10\n"
     ]
    }
   ],
   "source": [
    "print(5 + 5)"
   ]
  },
  {
   "cell_type": "code",
   "execution_count": 27,
   "id": "e001ea23-b544-4342-8c9c-d21a27f5475f",
   "metadata": {},
   "outputs": [
    {
     "name": "stdout",
     "output_type": "stream",
     "text": [
      "CambridgeInfotech\n"
     ]
    }
   ],
   "source": [
    "print(\"Cambridge\" + \"Infotech\")"
   ]
  },
  {
   "cell_type": "code",
   "execution_count": 9,
   "id": "30d0ac4e-31aa-4526-8063-2611c827f8cd",
   "metadata": {},
   "outputs": [
    {
     "ename": "SyntaxError",
     "evalue": "incomplete input (353226650.py, line 1)",
     "output_type": "error",
     "traceback": [
      "\u001b[1;36m  Cell \u001b[1;32mIn[9], line 1\u001b[1;36m\u001b[0m\n\u001b[1;33m    print(\"Hello World\"\u001b[0m\n\u001b[1;37m                       ^\u001b[0m\n\u001b[1;31mSyntaxError\u001b[0m\u001b[1;31m:\u001b[0m incomplete input\n"
     ]
    }
   ],
   "source": [
    "print(\"Hello World\""
   ]
  },
  {
   "cell_type": "code",
   "execution_count": 11,
   "id": "e8aee816-008d-48f5-8dac-ab45f3225b06",
   "metadata": {},
   "outputs": [
    {
     "ename": "TypeError",
     "evalue": "unsupported operand type(s) for +: 'int' and 'str'",
     "output_type": "error",
     "traceback": [
      "\u001b[1;31m---------------------------------------------------------------------------\u001b[0m",
      "\u001b[1;31mTypeError\u001b[0m                                 Traceback (most recent call last)",
      "Cell \u001b[1;32mIn[11], line 1\u001b[0m\n\u001b[1;32m----> 1\u001b[0m c \u001b[38;5;241m=\u001b[39m \u001b[38;5;241m1\u001b[39m \u001b[38;5;241m+\u001b[39m \u001b[38;5;124m\"\u001b[39m\u001b[38;5;124mThis is my name\u001b[39m\u001b[38;5;124m\"\u001b[39m\n\u001b[0;32m      3\u001b[0m \u001b[38;5;28mprint\u001b[39m(c)\n",
      "\u001b[1;31mTypeError\u001b[0m: unsupported operand type(s) for +: 'int' and 'str'"
     ]
    }
   ],
   "source": [
    "c = 1 + \"This is my name\"\n",
    "\n",
    "print(c)"
   ]
  },
  {
   "cell_type": "markdown",
   "id": "91a680ab-0c65-4bfa-9863-bf60b4d73cb5",
   "metadata": {},
   "source": [
    "### **2. Types of Error**"
   ]
  },
  {
   "cell_type": "markdown",
   "id": "04f2882c-d2e4-424a-b08c-7875d2b1bad9",
   "metadata": {},
   "source": [
    "### Syntax Error\n",
    "\n",
    "A **syntax error** occurs when the code doesn’t follow the rules of the Python language. It’s like making a grammatical mistake in a sentence—you’re not speaking the language correctly.\n",
    "\n",
    "**Example:**\n",
    "\n",
    "```python\n",
    "print(\"Hello, World!\"  # Missing closing parenthesis\n",
    "```\n",
    "\n",
    "**Explanation:** In the above code, there’s a syntax error because the closing parenthesis for the `print` function is missing. Python will raise an error message indicating a problem with the syntax.\n",
    "\n",
    "### Semantic Error\n",
    "\n",
    "A **semantic error** occurs when the code is syntactically correct but doesn’t do what you intended. It’s like writing a grammatically correct sentence that still doesn’t make sense or doesn’t achieve what you want.\n",
    "\n",
    "**Example:**\n",
    "\n",
    "```python\n",
    "# Incorrect calculation\n",
    "result = 5 + \"10\"  # Trying to add a number and a string\n",
    "print(result)\n",
    "```\n",
    "\n",
    "**Explanation:** In the above code, there’s no syntax error, but there’s a semantic error because adding a number and a string doesn’t make sense in Python. The program will raise an error when you run it."
   ]
  },
  {
   "cell_type": "code",
   "execution_count": 31,
   "id": "853417e8-8028-4699-9192-fd5b907dd1da",
   "metadata": {},
   "outputs": [
    {
     "ename": "TypeError",
     "evalue": "unsupported operand type(s) for +: 'int' and 'str'",
     "output_type": "error",
     "traceback": [
      "\u001b[1;31m---------------------------------------------------------------------------\u001b[0m",
      "\u001b[1;31mTypeError\u001b[0m                                 Traceback (most recent call last)",
      "Cell \u001b[1;32mIn[31], line 1\u001b[0m\n\u001b[1;32m----> 1\u001b[0m \u001b[38;5;28mprint\u001b[39m(\u001b[38;5;241m5\u001b[39m\u001b[38;5;241m+\u001b[39m\u001b[38;5;124m'\u001b[39m\u001b[38;5;124m10\u001b[39m\u001b[38;5;124m'\u001b[39m)\n",
      "\u001b[1;31mTypeError\u001b[0m: unsupported operand type(s) for +: 'int' and 'str'"
     ]
    }
   ],
   "source": [
    "print(5+'10')"
   ]
  },
  {
   "cell_type": "markdown",
   "id": "99118404-b10f-42d7-9c7d-8bed387d13d1",
   "metadata": {},
   "source": [
    "### **3. Case Sensitivity**"
   ]
  },
  {
   "cell_type": "code",
   "execution_count": 15,
   "id": "484a56cc-f32b-4754-bb9a-e161e387e73b",
   "metadata": {},
   "outputs": [],
   "source": [
    "myName = \"Cambridge\""
   ]
  },
  {
   "cell_type": "code",
   "execution_count": 21,
   "id": "8fa07127-d5a4-463c-803c-633721d168d2",
   "metadata": {},
   "outputs": [
    {
     "name": "stdout",
     "output_type": "stream",
     "text": [
      "Cambridge\n"
     ]
    }
   ],
   "source": [
    "print(myName)"
   ]
  },
  {
   "cell_type": "code",
   "execution_count": null,
   "id": "3d554535-5290-42a4-a97b-c64a548b1fcf",
   "metadata": {},
   "outputs": [],
   "source": []
  },
  {
   "cell_type": "code",
   "execution_count": 39,
   "id": "42c9e0f1-d65b-4d2f-b64b-9c7f06291cea",
   "metadata": {},
   "outputs": [],
   "source": [
    "name = \"Abhi\"\n",
    "age = 50\n",
    "height = 5.9\n",
    "is_student = True"
   ]
  },
  {
   "cell_type": "code",
   "execution_count": 41,
   "id": "21fbb434-9df8-4ef5-bfeb-32f5f4123f30",
   "metadata": {},
   "outputs": [
    {
     "name": "stdout",
     "output_type": "stream",
     "text": [
      "Abhishek\n"
     ]
    }
   ],
   "source": [
    "name = \"Abhishek\"\n",
    "print(name)"
   ]
  },
  {
   "cell_type": "code",
   "execution_count": 43,
   "id": "27e3e292-4e64-4ba4-9185-daee75ac332c",
   "metadata": {},
   "outputs": [
    {
     "name": "stdout",
     "output_type": "stream",
     "text": [
      "cambridge\n"
     ]
    }
   ],
   "source": [
    "Student_name9 = 'Abhishek'\n",
    "Student_name = 'cambridge'\n",
    "print(Student_name)"
   ]
  },
  {
   "cell_type": "code",
   "execution_count": 45,
   "id": "94d44608-7997-4033-a0ad-58f704525a1f",
   "metadata": {},
   "outputs": [],
   "source": [
    "student_name = 'cambridge'"
   ]
  },
  {
   "cell_type": "code",
   "execution_count": 47,
   "id": "95566cd0-8a08-4f49-8816-8403a31b5826",
   "metadata": {},
   "outputs": [
    {
     "name": "stdout",
     "output_type": "stream",
     "text": [
      "cambridge\n"
     ]
    }
   ],
   "source": [
    "print(student_name)"
   ]
  },
  {
   "cell_type": "code",
   "execution_count": 39,
   "id": "20025a5a-e381-404d-9731-c90f75060de4",
   "metadata": {},
   "outputs": [
    {
     "name": "stdout",
     "output_type": "stream",
     "text": [
      "Abhishek\n",
      "cambridge\n"
     ]
    }
   ],
   "source": [
    "Student_name = 'Abhishek'\n",
    "student_name = 'cambridge'\n",
    "print(Student_name)\n",
    "print(student_name)"
   ]
  },
  {
   "cell_type": "code",
   "execution_count": 47,
   "id": "6ea1fb77-9cc3-4fc8-becf-ba131c8cca92",
   "metadata": {},
   "outputs": [],
   "source": [
    "no_of_Student_1 = 'cambridge'"
   ]
  },
  {
   "cell_type": "markdown",
   "id": "44323ad3-c95d-452d-a62a-9bb171c12fe3",
   "metadata": {},
   "source": [
    "**case sensitivity** means that uppercase and lowercase letters are treated differently. This is similar to how \"Computer\" and \"computer\" are considered different.\n",
    "\n",
    "**Variable Names:** `name`, `Name` are all considered different variables.\n",
    "\n",
    "**Example:**\n",
    "\n",
    "```python\n",
    "name = 'Abhi'\n",
    "Name = 'Cambridge'\n",
    "NAME = 'InfoTech'\n",
    "\n",
    "print(name)  # Output: Abhi\n",
    "print(Name)  # Output: Cambridge\n",
    "print(NAME)  # Output: InfoTech\n",
    "```"
   ]
  },
  {
   "cell_type": "markdown",
   "id": "3dd4579d-e5c5-4df0-a61b-4f6fc81a5992",
   "metadata": {},
   "source": [
    "### **4. Naming Conventions**\n"
   ]
  },
  {
   "cell_type": "code",
   "execution_count": 23,
   "id": "eecaabab-3534-4a74-ba4d-1c5a60f3c2ae",
   "metadata": {},
   "outputs": [
    {
     "ename": "SyntaxError",
     "evalue": "invalid syntax. Maybe you meant '==' or ':=' instead of '='? (1789026466.py, line 1)",
     "output_type": "error",
     "traceback": [
      "\u001b[1;36m  Cell \u001b[1;32mIn[23], line 1\u001b[1;36m\u001b[0m\n\u001b[1;33m    @myVariable = 12\u001b[0m\n\u001b[1;37m     ^\u001b[0m\n\u001b[1;31mSyntaxError\u001b[0m\u001b[1;31m:\u001b[0m invalid syntax. Maybe you meant '==' or ':=' instead of '='?\n"
     ]
    }
   ],
   "source": [
    "@myVariable = 12"
   ]
  },
  {
   "cell_type": "code",
   "execution_count": 25,
   "id": "d094bf25-a21e-401a-ad71-8e2ac25d3864",
   "metadata": {},
   "outputs": [],
   "source": [
    "_my_Variable = 12"
   ]
  },
  {
   "cell_type": "code",
   "execution_count": 29,
   "id": "b51c9506-8fd2-4632-b72e-ec84c9456a3f",
   "metadata": {},
   "outputs": [],
   "source": [
    "my_Variable_ = 10"
   ]
  },
  {
   "cell_type": "code",
   "execution_count": 31,
   "id": "8ce63e8b-32a8-4c3a-9d8a-2f3243cd6115",
   "metadata": {},
   "outputs": [],
   "source": [
    "my_Variable_10 = 10"
   ]
  },
  {
   "cell_type": "code",
   "execution_count": null,
   "id": "0236adae-e445-4c58-8d15-a1502c06bb40",
   "metadata": {},
   "outputs": [],
   "source": []
  },
  {
   "cell_type": "code",
   "execution_count": null,
   "id": "fc4f441d-433b-4c51-9fce-fe30a66a9f74",
   "metadata": {},
   "outputs": [],
   "source": [
    "myNameIsAbhishek = "
   ]
  },
  {
   "cell_type": "markdown",
   "id": "033fa282-1195-4a01-a63d-7696a00227f1",
   "metadata": {},
   "source": [
    "1. **Variables and Functions**: Use lowercase with words separated by underscores & can include numbers in between (e.g., `myvariable`, `myFunction()`).\n",
    "\n",
    "2. **Classes**: Use CamelCase with no underscores (e.g., `MyClass`, `DataScience`).\n",
    "\n",
    "3. **Constants**: Use uppercase with words separated by underscores (e.g., `MAX_SIZE`, `PI`)."
   ]
  },
  {
   "cell_type": "code",
   "execution_count": 57,
   "id": "07d752de-89ff-44c5-a757-0283ed52878d",
   "metadata": {},
   "outputs": [
    {
     "name": "stdout",
     "output_type": "stream",
     "text": [
      "abhinav\n"
     ]
    }
   ],
   "source": [
    "name7 = \"abhinav\"\n",
    "print(name7)"
   ]
  },
  {
   "cell_type": "code",
   "execution_count": 33,
   "id": "70b7f1dd-7753-45d6-b76f-ddc26ffc0ec8",
   "metadata": {},
   "outputs": [
    {
     "name": "stdout",
     "output_type": "stream",
     "text": [
      "The Zen of Python, by Tim Peters\n",
      "\n",
      "Beautiful is better than ugly.\n",
      "Explicit is better than implicit.\n",
      "Simple is better than complex.\n",
      "Complex is better than complicated.\n",
      "Flat is better than nested.\n",
      "Sparse is better than dense.\n",
      "Readability counts.\n",
      "Special cases aren't special enough to break the rules.\n",
      "Although practicality beats purity.\n",
      "Errors should never pass silently.\n",
      "Unless explicitly silenced.\n",
      "In the face of ambiguity, refuse the temptation to guess.\n",
      "There should be one-- and preferably only one --obvious way to do it.\n",
      "Although that way may not be obvious at first unless you're Dutch.\n",
      "Now is better than never.\n",
      "Although never is often better than *right* now.\n",
      "If the implementation is hard to explain, it's a bad idea.\n",
      "If the implementation is easy to explain, it may be a good idea.\n",
      "Namespaces are one honking great idea -- let's do more of those!\n"
     ]
    }
   ],
   "source": [
    "import this"
   ]
  },
  {
   "cell_type": "code",
   "execution_count": 1,
   "id": "aa2bca0a-fefa-4ae7-bf02-645bbccf5b4c",
   "metadata": {},
   "outputs": [
    {
     "name": "stdout",
     "output_type": "stream",
     "text": [
      "The Zen of Python, by Tim Peters\n",
      "\n",
      "Beautiful is better than ugly.\n",
      "Explicit is better than implicit.\n",
      "Simple is better than complex.\n",
      "Complex is better than complicated.\n",
      "Flat is better than nested.\n",
      "Sparse is better than dense.\n",
      "Readability counts.\n",
      "Special cases aren't special enough to break the rules.\n",
      "Although practicality beats purity.\n",
      "Errors should never pass silently.\n",
      "Unless explicitly silenced.\n",
      "In the face of ambiguity, refuse the temptation to guess.\n",
      "There should be one-- and preferably only one --obvious way to do it.\n",
      "Although that way may not be obvious at first unless you're Dutch.\n",
      "Now is better than never.\n",
      "Although never is often better than *right* now.\n",
      "If the implementation is hard to explain, it's a bad idea.\n",
      "If the implementation is easy to explain, it may be a good idea.\n",
      "Namespaces are one honking great idea -- let's do more of those!\n"
     ]
    }
   ],
   "source": [
    "import this"
   ]
  },
  {
   "cell_type": "markdown",
   "id": "ee275018-d8b4-4419-ba26-204bc6533c9a",
   "metadata": {},
   "source": [
    "### **5. Indentation**"
   ]
  },
  {
   "cell_type": "code",
   "execution_count": 26,
   "id": "1c6d271c-1559-4365-bf83-0cc09c312141",
   "metadata": {},
   "outputs": [
    {
     "name": "stdout",
     "output_type": "stream",
     "text": [
      "0\n",
      "1\n",
      "2\n",
      "3\n",
      "4\n"
     ]
    }
   ],
   "source": [
    "for i in range(5):\n",
    "    print(i)"
   ]
  },
  {
   "cell_type": "code",
   "execution_count": 30,
   "id": "9a5ef561-03a4-4b2a-82d8-92f30128e43f",
   "metadata": {},
   "outputs": [],
   "source": [
    "def my_function():\n",
    "    print(\"Hello\")"
   ]
  },
  {
   "cell_type": "code",
   "execution_count": null,
   "id": "1cc1044c-7fca-412f-ad4d-ec8990873aa8",
   "metadata": {},
   "outputs": [],
   "source": []
  },
  {
   "cell_type": "code",
   "execution_count": 57,
   "id": "42f65c64-8158-461d-85e4-234cbd659bda",
   "metadata": {},
   "outputs": [],
   "source": [
    "#True = 1`\n",
    "#False = 1"
   ]
  },
  {
   "cell_type": "code",
   "execution_count": 45,
   "id": "a1834817-8e1e-454f-badc-14ad6f9800ae",
   "metadata": {},
   "outputs": [
    {
     "name": "stdout",
     "output_type": "stream",
     "text": [
      "Cambridge\n"
     ]
    }
   ],
   "source": [
    "a = \"Cambridge\"\n",
    "\n",
    "def my_function(a):\n",
    "    print(a)\n",
    "\n",
    "my_function(a)"
   ]
  },
  {
   "cell_type": "markdown",
   "id": "720ca950-f53a-4743-9e64-9620ba766c16",
   "metadata": {},
   "source": [
    "**Indentation** in Python uses spaces or tabs to define blocks of code.\n",
    "\n",
    "### Why Indentation Matters\n",
    "\n",
    "- **Code Blocks:** Indentation tells Python which statements belong to which block.\n",
    "\n",
    "For example, the code inside a loop or a function is indented to show it’s part of that block.\n",
    "\n",
    "**Example:**\n",
    "\n",
    "```python\n",
    "def greet():\n",
    "    print(\"Hello!\")  # This line is part of the 'greet' function because it's indented\n",
    "\n",
    "greet()  # Calls the 'greet' function\n",
    "```\n",
    "**Consistent Indentation:**  All lines of code in the same block must be indented the same amount. Mixing spaces and tabs can lead to errors."
   ]
  },
  {
   "cell_type": "markdown",
   "id": "039d0c8b-3acd-4106-9f7d-c290a9b7fb80",
   "metadata": {},
   "source": [
    "### **What is Python ?**\n",
    "Python is a high-level, easy-to-learn programming language known for its simplicity and readability. It allows you to write code in a way that's close to human language, making it easier to understand and debug. Python is versatile and widely used in various fields, including web development, data analysis, artificial intelligence, and automation. Its clear syntax and extensive libraries make it a popular choice for both beginners and experienced programmers."
   ]
  },
  {
   "cell_type": "markdown",
   "id": "972307ec-f44c-41fb-963f-6b1c31137ddc",
   "metadata": {},
   "source": [
    "### Python is an interpreted language, which means that Python's source code is converted into bytecode and then executed each time the program runs:\n",
    "\n",
    "- Line-by-line execution\n",
    "    - Interpreted languages run code line by line, which makes them easier to test and debug. "
   ]
  },
  {
   "cell_type": "markdown",
   "id": "215ee3cd-4772-418b-8872-dd65378c003a",
   "metadata": {},
   "source": [
    "### **Understand Deeply how python is helpful ?**\n",
    "Imagine Python is like a special set of building blocks for creating things on a computer. \n",
    "\n",
    "When you want to tell a computer what to do, you use these blocks to make instructions. Python is a kind of building block set that's really easy to use. It's like having big, colorful blocks that fit together perfectly to make something cool, like a toy or a castle. \n",
    "\n",
    "Just like you can build lots of different things with your blocks—like cars, houses, or spaceships—using Python you create all kinds of things on a computer, like games, websites, or robots. And because Python is easy and fun."
   ]
  },
  {
   "cell_type": "markdown",
   "id": "be44faf6-3f04-44ab-ac2a-9545d1d72d9f",
   "metadata": {},
   "source": [
    "### **What is the Python current version ?**\n",
    "As of April 2024, the stable version of Python is 3.12, and it's the only version that receives active support. Python 3.8 is the oldest version that still receives security support, but it's no longer receiving active support. \n",
    " \n",
    "The next version of Python, 3.13, is scheduled for release on October 1, 2024. Pre-release versions and Docker images are available for developers. \n"
   ]
  },
  {
   "cell_type": "markdown",
   "id": "c6fe1956-4ced-4568-a4da-15eda338be6f",
   "metadata": {},
   "source": [
    "### **How python is helpful for Data Scientist, Data Analyst & Business Analyst ?**\n",
    "**1. Data Scientists**: Python helps by providing powerful tools for data manipulation, machine learning, and visualization. \n",
    "\n",
    "**2. Data Analysts**: Using Python for cleaning data, exploring datasets, and creating visualizations to uncover insights. \n",
    "\n",
    "**3. Business Analysts**: Business Analysts benefit from Python by automating data processing, generating forecasts, and creating reports. \n",
    "\n",
    "Python’s ease of use and extensive libraries make it a versatile tool for analyzing and interpreting data across these roles."
   ]
  },
  {
   "cell_type": "markdown",
   "id": "b4a67397-1ec8-4dfd-a9aa-caf123b1e60c",
   "metadata": {},
   "source": [
    "*********************************************************************************"
   ]
  },
  {
   "cell_type": "markdown",
   "id": "7fd016fa-c397-40eb-ac63-f61042f0b49f",
   "metadata": {},
   "source": [
    "***Lets Dive deeper into Python Practicals.......!***"
   ]
  },
  {
   "cell_type": "markdown",
   "id": "ac9e3c57-b6bf-4fd1-99b3-d47023859d7d",
   "metadata": {},
   "source": [
    "### **1. Basic Data Types**\n",
    "- **Integer (`int`):** Whole numbers, e.g., `1`, `42`, `-7`\n",
    "- **Float (`float`):** Decimal numbers, e.g., `3.14`, `0.001`, `-2.5`\n",
    "- **String (`str`):** Text, e.g., `\"Hello, world!\"`, `'data science'`\n",
    "- **Booleans (`bool`):** True or False values, e.g., `True`, `False`\n"
   ]
  },
  {
   "cell_type": "markdown",
   "id": "46ffb2ae-b55c-4de5-bc32-00a668e21767",
   "metadata": {},
   "source": [
    "### **2. Variable Declaration**"
   ]
  },
  {
   "cell_type": "code",
   "execution_count": 32,
   "id": "984bae13-fd84-42ab-889f-fdc76c19ccf3",
   "metadata": {},
   "outputs": [],
   "source": [
    "myvariable = \"Welcome to Cambridge\""
   ]
  },
  {
   "cell_type": "code",
   "execution_count": 34,
   "id": "d4a701bf-649c-43c2-b53e-b93eb89ad422",
   "metadata": {},
   "outputs": [
    {
     "data": {
      "text/plain": [
       "str"
      ]
     },
     "execution_count": 34,
     "metadata": {},
     "output_type": "execute_result"
    }
   ],
   "source": [
    "type(myvariable)"
   ]
  },
  {
   "cell_type": "code",
   "execution_count": 26,
   "id": "71ddda44-683b-4132-adfd-ad0ec9cd07df",
   "metadata": {},
   "outputs": [
    {
     "name": "stdout",
     "output_type": "stream",
     "text": [
      "Welcome to Cambridge\n"
     ]
    }
   ],
   "source": [
    "print(myvariable)"
   ]
  },
  {
   "cell_type": "code",
   "execution_count": 28,
   "id": "7aed5745-3ec6-4c35-9e4a-fa7a84419587",
   "metadata": {},
   "outputs": [
    {
     "name": "stdout",
     "output_type": "stream",
     "text": [
      "576 Welcome to Cambridge\n"
     ]
    }
   ],
   "source": [
    "myNumber = 576\n",
    "print(myNumber,myvariable)"
   ]
  },
  {
   "cell_type": "code",
   "execution_count": 30,
   "id": "f1aaff2a-5875-4e52-ae22-33ec0b3c0088",
   "metadata": {},
   "outputs": [
    {
     "name": "stdout",
     "output_type": "stream",
     "text": [
      "5.9\n"
     ]
    }
   ],
   "source": [
    "newFloat = 5.9\n",
    "print(newFloat)"
   ]
  },
  {
   "cell_type": "code",
   "execution_count": 50,
   "id": "f4dd39a1-f3ba-4d17-8c63-bcf5919c9449",
   "metadata": {},
   "outputs": [
    {
     "name": "stdout",
     "output_type": "stream",
     "text": [
      "True\n"
     ]
    }
   ],
   "source": [
    "myBool = True\n",
    "print(myBool)"
   ]
  },
  {
   "cell_type": "code",
   "execution_count": 52,
   "id": "f869bc4a-62ea-4bb9-86d1-c7cc90dc9968",
   "metadata": {},
   "outputs": [
    {
     "name": "stdout",
     "output_type": "stream",
     "text": [
      "True 576 Welcome to Cambridge\n"
     ]
    }
   ],
   "source": [
    "print(True, myNumber, myvariable)"
   ]
  },
  {
   "cell_type": "code",
   "execution_count": 54,
   "id": "5acd5a4b-d16e-4a60-bbba-3438183f7e16",
   "metadata": {},
   "outputs": [
    {
     "name": "stdout",
     "output_type": "stream",
     "text": [
      "Hello There, Welcome to Cambridge, Your number is 576 and True your a student\n"
     ]
    }
   ],
   "source": [
    "print(f'Hello There, {myvariable}, Your number is {myNumber} and {myBool} your a student')"
   ]
  },
  {
   "cell_type": "code",
   "execution_count": 56,
   "id": "1dd6f385-78cd-4857-976c-7ceb8bf81cd0",
   "metadata": {},
   "outputs": [
    {
     "data": {
      "text/plain": [
       "str"
      ]
     },
     "execution_count": 56,
     "metadata": {},
     "output_type": "execute_result"
    }
   ],
   "source": [
    "type(myvariable)"
   ]
  },
  {
   "cell_type": "code",
   "execution_count": 58,
   "id": "ba104626-a478-4b2d-a786-74de12ddfaeb",
   "metadata": {},
   "outputs": [
    {
     "data": {
      "text/plain": [
       "int"
      ]
     },
     "execution_count": 58,
     "metadata": {},
     "output_type": "execute_result"
    }
   ],
   "source": [
    "type(myNumber)"
   ]
  },
  {
   "cell_type": "code",
   "execution_count": 60,
   "id": "5296bc13-5ba3-4dc4-a130-ca8f3c492abd",
   "metadata": {},
   "outputs": [
    {
     "data": {
      "text/plain": [
       "bool"
      ]
     },
     "execution_count": 60,
     "metadata": {},
     "output_type": "execute_result"
    }
   ],
   "source": [
    "type(myBool)"
   ]
  },
  {
   "cell_type": "code",
   "execution_count": 62,
   "id": "00397691-8186-4c8c-8b62-12b26f87cd8c",
   "metadata": {},
   "outputs": [
    {
     "data": {
      "text/plain": [
       "float"
      ]
     },
     "execution_count": 62,
     "metadata": {},
     "output_type": "execute_result"
    }
   ],
   "source": [
    "type(newFloat)"
   ]
  },
  {
   "cell_type": "code",
   "execution_count": 20,
   "id": "cc6ae741-7bb2-4c5b-af13-e874077f6f46",
   "metadata": {},
   "outputs": [
    {
     "data": {
      "text/plain": [
       "str"
      ]
     },
     "execution_count": 20,
     "metadata": {},
     "output_type": "execute_result"
    }
   ],
   "source": [
    "type(newVariable)"
   ]
  },
  {
   "cell_type": "code",
   "execution_count": 24,
   "id": "835bc27f-ea64-4954-a870-f548b6cd3a46",
   "metadata": {},
   "outputs": [
    {
     "data": {
      "text/plain": [
       "int"
      ]
     },
     "execution_count": 24,
     "metadata": {},
     "output_type": "execute_result"
    }
   ],
   "source": [
    "type(newNumber)"
   ]
  },
  {
   "cell_type": "code",
   "execution_count": 26,
   "id": "f671f2aa-0bbf-4eaa-897b-0a9af04ef8b2",
   "metadata": {},
   "outputs": [
    {
     "data": {
      "text/plain": [
       "0"
      ]
     },
     "execution_count": 26,
     "metadata": {},
     "output_type": "execute_result"
    }
   ],
   "source": [
    "int()"
   ]
  },
  {
   "cell_type": "code",
   "execution_count": 28,
   "id": "b0f05c46-c2f1-4782-afd3-dbba889f877a",
   "metadata": {},
   "outputs": [
    {
     "data": {
      "text/plain": [
       "0.0"
      ]
     },
     "execution_count": 28,
     "metadata": {},
     "output_type": "execute_result"
    }
   ],
   "source": [
    "float()"
   ]
  },
  {
   "cell_type": "code",
   "execution_count": 30,
   "id": "c0f58fab-816a-486a-b0e8-e3827302e308",
   "metadata": {},
   "outputs": [
    {
     "data": {
      "text/plain": [
       "''"
      ]
     },
     "execution_count": 30,
     "metadata": {},
     "output_type": "execute_result"
    }
   ],
   "source": [
    "str()"
   ]
  },
  {
   "cell_type": "code",
   "execution_count": 32,
   "id": "cc9e0b52-827a-4632-bc5c-a54b9afb5fc5",
   "metadata": {},
   "outputs": [
    {
     "data": {
      "text/plain": [
       "False"
      ]
     },
     "execution_count": 32,
     "metadata": {},
     "output_type": "execute_result"
    }
   ],
   "source": [
    "bool()"
   ]
  },
  {
   "cell_type": "code",
   "execution_count": 34,
   "id": "6ab869ff-6609-42e7-873f-557b339a7ba5",
   "metadata": {},
   "outputs": [],
   "source": [
    "num = 4.5"
   ]
  },
  {
   "cell_type": "code",
   "execution_count": 38,
   "id": "264f689c-21dc-4ae2-b8f3-b3ca81348103",
   "metadata": {},
   "outputs": [],
   "source": [
    "integer = int(num)"
   ]
  },
  {
   "cell_type": "code",
   "execution_count": 40,
   "id": "5d28535d-3dee-4c68-976d-b85ba2b9d5f3",
   "metadata": {},
   "outputs": [
    {
     "data": {
      "text/plain": [
       "int"
      ]
     },
     "execution_count": 40,
     "metadata": {},
     "output_type": "execute_result"
    }
   ],
   "source": [
    "type(integer)"
   ]
  },
  {
   "cell_type": "code",
   "execution_count": 42,
   "id": "b7e9849c-790c-4035-a092-0348693fa6cb",
   "metadata": {},
   "outputs": [],
   "source": [
    "my_string = str(num)"
   ]
  },
  {
   "cell_type": "code",
   "execution_count": 54,
   "id": "8f5a7c4b-b6b6-4aa9-b73c-12c314c9b60b",
   "metadata": {},
   "outputs": [
    {
     "data": {
      "text/plain": [
       "True"
      ]
     },
     "execution_count": 54,
     "metadata": {},
     "output_type": "execute_result"
    }
   ],
   "source": [
    "bool(num)"
   ]
  },
  {
   "cell_type": "code",
   "execution_count": 56,
   "id": "fc3b8304-2fd1-4580-8d43-4e960c5a8df4",
   "metadata": {},
   "outputs": [
    {
     "data": {
      "text/plain": [
       "True"
      ]
     },
     "execution_count": 56,
     "metadata": {},
     "output_type": "execute_result"
    }
   ],
   "source": [
    "string = 'Abhi'\n",
    "bool(string)"
   ]
  },
  {
   "cell_type": "code",
   "execution_count": null,
   "id": "79e4169a-0c1d-4b74-8f73-38c6711ff713",
   "metadata": {},
   "outputs": [],
   "source": []
  },
  {
   "cell_type": "code",
   "execution_count": 48,
   "id": "4e864c3a-f9f2-41f8-9e5e-eb0e3d80b276",
   "metadata": {},
   "outputs": [
    {
     "name": "stdout",
     "output_type": "stream",
     "text": [
      "<class 'str'>\n"
     ]
    }
   ],
   "source": [
    "print(type(my_string))"
   ]
  },
  {
   "cell_type": "code",
   "execution_count": 64,
   "id": "096f94aa-8b19-413f-96a3-7a15eda63564",
   "metadata": {},
   "outputs": [],
   "source": [
    "name = \"ABHI\"\n",
    "age = 63\n",
    "_is_student = False\n",
    "height = 5.9"
   ]
  },
  {
   "cell_type": "markdown",
   "id": "0b7bd70a-b6c4-4f58-b492-458f17273145",
   "metadata": {},
   "source": [
    "### **3. Printing Variable**"
   ]
  },
  {
   "cell_type": "code",
   "execution_count": 75,
   "id": "d708073b-4b9c-4052-818b-50fd00981090",
   "metadata": {},
   "outputs": [
    {
     "name": "stdout",
     "output_type": "stream",
     "text": [
      "ABHI\n",
      "63\n",
      "False\n",
      "5.9\n"
     ]
    }
   ],
   "source": [
    "print(name)\n",
    "print(age)\n",
    "print(_is_student)\n",
    "print(height)"
   ]
  },
  {
   "cell_type": "markdown",
   "id": "03e80b04-e1b1-4c8c-9ef2-379a64314947",
   "metadata": {},
   "source": [
    "### **4. Type Checking**"
   ]
  },
  {
   "cell_type": "code",
   "execution_count": 68,
   "id": "6b85ec63-6e59-4e00-9204-240ee2f299eb",
   "metadata": {},
   "outputs": [
    {
     "data": {
      "text/plain": [
       "str"
      ]
     },
     "execution_count": 68,
     "metadata": {},
     "output_type": "execute_result"
    }
   ],
   "source": [
    "type(name)"
   ]
  },
  {
   "cell_type": "code",
   "execution_count": 70,
   "id": "d16ed1eb-6238-49d5-80bd-ee75c7baa052",
   "metadata": {},
   "outputs": [
    {
     "data": {
      "text/plain": [
       "int"
      ]
     },
     "execution_count": 70,
     "metadata": {},
     "output_type": "execute_result"
    }
   ],
   "source": [
    "type(age)"
   ]
  },
  {
   "cell_type": "code",
   "execution_count": 72,
   "id": "5eccdf97-9916-4fdd-b353-e97ae1285fe6",
   "metadata": {},
   "outputs": [
    {
     "data": {
      "text/plain": [
       "bool"
      ]
     },
     "execution_count": 72,
     "metadata": {},
     "output_type": "execute_result"
    }
   ],
   "source": [
    "type(student)"
   ]
  },
  {
   "cell_type": "code",
   "execution_count": 74,
   "id": "b0470add-d442-46a5-b694-66ecdce24302",
   "metadata": {},
   "outputs": [
    {
     "data": {
      "text/plain": [
       "float"
      ]
     },
     "execution_count": 74,
     "metadata": {},
     "output_type": "execute_result"
    }
   ],
   "source": [
    "type(height)"
   ]
  }
 ],
 "metadata": {
  "kernelspec": {
   "display_name": "Python 3 (ipykernel)",
   "language": "python",
   "name": "python3"
  },
  "language_info": {
   "codemirror_mode": {
    "name": "ipython",
    "version": 3
   },
   "file_extension": ".py",
   "mimetype": "text/x-python",
   "name": "python",
   "nbconvert_exporter": "python",
   "pygments_lexer": "ipython3",
   "version": "3.12.4"
  }
 },
 "nbformat": 4,
 "nbformat_minor": 5
}
